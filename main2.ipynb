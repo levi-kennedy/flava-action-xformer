{
 "cells": [
  {
   "cell_type": "markdown",
   "metadata": {},
   "source": [
    "Bring in the RLBench BC data from the saved hdf5 data files for each task. The task files were created with the instructRL/data/collect_data.py script. The task files include an array of data samples.  Each sample is a dict that includes the following keys:\n",
    "\n",
    "* image - data for 4 camera positions: front_rgb, left_shoulder_rgb, right_shoulder_rgb, wrist_rgb\n",
    "* instruct - the text instruction\n",
    "* action - the action vector: [p;q;g] where for RLBench the gripper state is a single scalar open or closed [1,0]"
   ]
  },
  {
   "cell_type": "code",
   "execution_count": 1,
   "metadata": {},
   "outputs": [],
   "source": [
    "from torch.nn import TransformerEncoder, TransformerEncoderLayer\n",
    "from getdata import RLBenchDataset\n",
    "import time\n",
    "import numpy as np\n",
    "import datetime\n",
    "import matplotlib.pyplot as plt\n",
    "from tqdm import tqdm\n",
    "import pprint as pp\n",
    "import torch\n",
    "import torch.nn as nn\n",
    "import torch.nn.functional as F\n",
    "import math\n",
    "from torch import Tensor\n"
   ]
  },
  {
   "cell_type": "code",
   "execution_count": 2,
   "metadata": {},
   "outputs": [],
   "source": [
    "\n",
    "\n",
    "class PositionalEncoding(nn.Module):\n",
    "\n",
    "    def __init__(self, d_model: int, dropout: float = 0.1, max_len: int = 500):\n",
    "        super().__init__()\n",
    "        self.dropout = nn.Dropout(p=dropout)\n",
    "\n",
    "        position = torch.arange(max_len).unsqueeze(1)\n",
    "        div_term = torch.exp(torch.arange(0, d_model, 2) * (-math.log(10000.0) / d_model))\n",
    "        pe = torch.zeros(1, max_len, d_model)\n",
    "        # even indices are sine, odd indices are cosine\n",
    "        pe[0, :, 0::2] = torch.sin(position * div_term)\n",
    "        pe[0, :, 1::2] = torch.cos(position * div_term)\n",
    "        self.register_buffer('pe', pe)\n",
    "\n",
    "    def forward(self, x: Tensor) -> Tensor:\n",
    "        \"\"\"\n",
    "        Arguments:\n",
    "            x: Tensor, shape ``[ batch_size, seq_len, embedding_dim]``\n",
    "        \"\"\"\n",
    "        x = x + self.pe[:, :x.size(1)]\n",
    "        return self.dropout(x)"
   ]
  },
  {
   "cell_type": "code",
   "execution_count": 3,
   "metadata": {},
   "outputs": [],
   "source": [
    "# The encoder embeddings from the Flava encoder will have dimensions [batch size, seq length, num cameras, num tokens, embedding dim]\n",
    "class EncoderAdapter(nn.Module):\n",
    "    def __init__(self, p_dropout=0.1):\n",
    "        super().__init__()\n",
    "        # Assuming the input is of shape [batch_size, channels=3, seq_length=396, features=768]\n",
    "        self.flatten = nn.Flatten(start_dim=3)\n",
    "        self.linear1 = nn.Linear(250*768, 4096)\n",
    "        self.dropout = nn.Dropout(p=p_dropout)\n",
    "        self.linear2 = nn.Linear(4096, 512)\n",
    "\n",
    "    def forward(self, x):\n",
    "        #print(f\"Input shape: {x.shape}\")\n",
    "        x = self.flatten(x)\n",
    "        #print(f\"Flattened shape: {x.shape}\")\n",
    "        x = self.linear1(x)\n",
    "        x = F.relu(x)\n",
    "        x = self.dropout(x)\n",
    "        x = self.linear2(x)\n",
    "        #print(f\"Output shape: {x.shape}\")\n",
    "        x = F.sigmoid(x)\n",
    "        return x\n",
    "\n",
    "\n"
   ]
  },
  {
   "cell_type": "code",
   "execution_count": 4,
   "metadata": {},
   "outputs": [],
   "source": [
    "# # Run a test of the encoder adapter\n",
    "# test_model = EncoderAdapter().cuda()\n",
    "# test_input = torch.randn(10, 2, 3, 200, 768).cuda() \n",
    "# test_output = test_model(test_input)\n",
    "# print(f\"Test output shape: {test_output.shape}\")"
   ]
  },
  {
   "cell_type": "code",
   "execution_count": 23,
   "metadata": {},
   "outputs": [],
   "source": [
    "\n",
    "\n",
    "class ActionDecoderModel(nn.Module):\n",
    "\n",
    "    def __init__(self, action_dim: int, hidden_dim: int,  nhead: int, \n",
    "                 nlayers: int, dropout: float = 0.2):\n",
    "        super().__init__()\n",
    "        #self.pos_encoder = PositionalEncoding(d_model, dropout=0, max_len=action_seq_len).cuda()\n",
    "        #self.encoder_adapter = EncoderAdapter(p_dropout=dropout)\n",
    "        encoder_layer = TransformerEncoderLayer(\n",
    "            d_model=hidden_dim,\n",
    "            nhead=nhead,\n",
    "            dim_feedforward=hidden_dim,\n",
    "            dropout=dropout,\n",
    "            batch_first=True\n",
    "            )\n",
    "        self.transformer_encoder = TransformerEncoder(encoder_layer, nlayers)\n",
    "        self.linear_action_in = nn.Linear(action_dim, hidden_dim)\n",
    "        self.flatten_out = nn.Flatten(start_dim=1)\n",
    "        self.linear_action_out = nn.Linear(4*hidden_dim, action_dim)\n",
    "\n",
    "    def forward(self, actions: Tensor, mm_emb: Tensor) -> Tensor:\n",
    "        \"\"\"\n",
    "        actions: [batch_size, action_seq_len, action_dim]\n",
    "        \"\"\"\n",
    "        actions = self.linear_action_in(actions)\n",
    "        #actions = F.sigmoid(actions)\n",
    "        # Add dimension for number of cameras\n",
    "        # actions = actions.unsqueeze(2)\n",
    "        mm_emb = mm_emb.squeeze(1)\n",
    "        # actions = self.pos_encoder(actions)\n",
    "        #mm_emb = self.encoder_adapter(mm_emb)\n",
    "        #print(f\"mm_emb shape: {mm_emb.shape}\")\n",
    "        #print(f\"actions shape: {actions.shape}\")\n",
    "        input = torch.cat((mm_emb, actions), dim=1)\n",
    "        #print(f\"input shape: {input.shape}\")\n",
    "        \n",
    "        # Reshape to combine sequence and camera dimensions\n",
    "        #input = input.reshape(input.shape[0], input.shape[1]*input.shape[2], input.shape[3])        \n",
    "        #print(f\"input reshape: {input.shape}\")\n",
    "\n",
    "        output = self.transformer_encoder(input)\n",
    "        #print(f\"output shape: {output.shape}\")\n",
    "        output = self.flatten_out(output)\n",
    "        #print(f\"output flatten: {output.shape}\")\n",
    "        output = self.linear_action_out(output)\n",
    "        return output"
   ]
  },
  {
   "cell_type": "code",
   "execution_count": 24,
   "metadata": {},
   "outputs": [
    {
     "name": "stdout",
     "output_type": "stream",
     "text": [
      "torch.Size([10, 8])\n"
     ]
    }
   ],
   "source": [
    "# action_dim = 8 # feature length of the action vector [p;q;g]\n",
    "# mm_encoder_dim = 768  # embedding dimension of the encoder (768,)\n",
    "# hidden_dim = 768  # dimension of the feedforward network model in ``nn.TransformerDecoder``\n",
    "# nlayers = 4  # number of nn.TransformerDecoderLayer in nn.TransformerDecoder\n",
    "# nhead = 2  # number of attention heads in nn.MultiheadAttention\n",
    "# dropout = 0.1  # dropout probability\n",
    "\n",
    "# test_model = ActionDecoderModel(\n",
    "#     action_dim=action_dim,\n",
    "#     hidden_dim=hidden_dim,\n",
    "#     nhead=nhead,\n",
    "#     nlayers=nlayers,\n",
    "#     dropout=dropout\n",
    "# )\n",
    "\n",
    "# mm_emb = torch.randn(10, 1, 3, 768)\n",
    "# actions = torch.randn(10, 1, 8)\n",
    "# output = test_model(actions, mm_emb)\n",
    "# print(output.shape)"
   ]
  },
  {
   "cell_type": "code",
   "execution_count": 21,
   "metadata": {},
   "outputs": [],
   "source": [
    "\n",
    "### DON'T FORGET to change the number of workers in the dataloader to 0 if debugging, debugger doesn't like mulitiple threads  ###\n",
    "\n",
    "# Read in the RLBench training data.  The RLBenchDataset class is a subclass of the PyTorch Dataset class.\n",
    "batch_size = 10\n",
    "task_name = \"reach_target\"\n",
    "# Load the training dataset and create a PyTorch DataLoader object.\n",
    "train_dataset = RLBenchDataset(\n",
    "    update=None,\n",
    "    dataset_name=task_name,\n",
    "    start_offset_ratio=None,\n",
    "    split=\"train\",\n",
    ")\n",
    "\n",
    "train_loader = torch.utils.data.DataLoader(    \n",
    "    dataset=train_dataset, \n",
    "    batch_size=batch_size, \n",
    "    shuffle=True, \n",
    "    num_workers=0)\n",
    "\n",
    "# Load the validation dataset and create a PyTorch DataLoader object.\n",
    "val_dataset = RLBenchDataset(\n",
    "    update=None,\n",
    "    dataset_name=task_name,\n",
    "    start_offset_ratio=None,\n",
    "    split=\"val\",\n",
    ")\n",
    "\n",
    "val_loader = torch.utils.data.DataLoader(\n",
    "    dataset=val_dataset, \n",
    "    batch_size=batch_size, \n",
    "    shuffle=True, \n",
    "    num_workers=0)"
   ]
  },
  {
   "cell_type": "code",
   "execution_count": 22,
   "metadata": {},
   "outputs": [
    {
     "name": "stdout",
     "output_type": "stream",
     "text": [
      "Training dataset batch info:\n",
      "action: torch.Size([10, 1, 8])\n",
      "encoder_emb: torch.Size([10, 1, 3, 768])\n",
      "target: torch.Size([10, 1, 8])\n",
      "num batches: 60\n",
      "Val dataset batch info:\n",
      "action: torch.Size([10, 1, 8])\n",
      "encoder_emb: torch.Size([10, 1, 3, 768])\n",
      "target: torch.Size([10, 1, 8])\n",
      "num batches: 3\n"
     ]
    }
   ],
   "source": [
    "print(f\"Training dataset batch info:\")\n",
    "for i, (data, target) in enumerate(train_loader):\n",
    "    print(\"action:\", data['action'].shape)\n",
    "    print(\"encoder_emb:\", data['encoder_emb'].shape)\n",
    "    print(\"target:\", target.shape)\n",
    "    break\n",
    "print(\"num batches: \" + str(len(train_loader)))\n",
    "\n",
    "print(f\"Val dataset batch info:\")\n",
    "for i, (data, target) in enumerate(val_loader):\n",
    "    print(\"action:\", data['action'].shape)\n",
    "    print(\"encoder_emb:\", data['encoder_emb'].shape)\n",
    "    print(\"target:\", target.shape)\n",
    "    break\n",
    "print(\"num batches: \" + str(len(val_loader)))\n"
   ]
  },
  {
   "cell_type": "code",
   "execution_count": 26,
   "metadata": {},
   "outputs": [
    {
     "data": {
      "image/png": "[encoded data removed]",
      "text/plain": [
       "<Figure size 640x480 with 1 Axes>"
      ]
     },
     "metadata": {},
     "output_type": "display_data"
    }
   ],
   "source": [
    "# Plot the embeddings of the first data sample from a batch\n",
    "plt.figure()\n",
    "plt.plot(data['encoder_emb'][0,0,0,:].numpy())\n",
    "plt.plot(data['encoder_emb'][0,0,1,:].numpy())\n",
    "#plt.plot(data['encoder_emb'][0,0,2,:].numpy())\n",
    "plt.title(\"Encoder Embeddings\")\n",
    "plt.legend([\"Camera 1\", \"Camera 2\", \"Camera 3\"])\n",
    "plt.show()"
   ]
  },
  {
   "cell_type": "code",
   "execution_count": 40,
   "metadata": {},
   "outputs": [],
   "source": [
    "\n",
    "# max number of tokens in encoder embeddings for the training tasks in a batch. Can be constant if all same task, otherwise needs to be computed. Also determines whether a padding mask must be applied.  Determines the size of the causal mask and max\n",
    "# max sequence length of the decoder action sequence and target output sequence. Decoder input size is seq_len + 2 to account for the start of sequence (sos) and end of sequence (eos) tokens.\n",
    "action_seq_len = data['action'].shape[1]  # sos + action + eos, will need batch padding when mixing tasks\n",
    "\n",
    "action_dim = 8 # feature length of the action vector [p;q;g]\n",
    "mm_dim = 768  # embedding dimension of the encoder (768,)\n",
    "hidden_dim = 768  # dimension of the feedforward network model in ``nn.TransformerDecoder``\n",
    "nlayers = 8  # number of nn.TransformerDecoderLayer in nn.TransformerDecoder\n",
    "nhead = 2  # number of attention heads in nn.MultiheadAttention\n",
    "dropout = 0.1  # dropout probability\n",
    "model = ActionDecoderModel(\n",
    "   action_dim=action_dim,\n",
    "    hidden_dim=hidden_dim,\n",
    "    nhead=nhead,\n",
    "    nlayers=nlayers,\n",
    "    dropout=dropout\n",
    "    ).cuda()"
   ]
  },
  {
   "cell_type": "code",
   "execution_count": 41,
   "metadata": {},
   "outputs": [
    {
     "name": "stdout",
     "output_type": "stream",
     "text": [
      "Model is on cuda:0\n"
     ]
    }
   ],
   "source": [
    "# print whether model is on GPU or CPU\n",
    "print(f\"Model is on {next(model.parameters()).device}\")\n",
    "\n",
    "# Display the model architecture and number of trainable parameters\n",
    "#print(model)"
   ]
  },
  {
   "cell_type": "code",
   "execution_count": 45,
   "metadata": {},
   "outputs": [],
   "source": [
    "\n",
    "\n",
    "loss_fn = nn.MSELoss(\n",
    "    reduction='mean',    \n",
    ")\n",
    "optimizer = torch.optim.Adam(\n",
    "    model.parameters(),\n",
    "    lr=0.001,\n",
    "    betas=(0.9, 0.999),\n",
    ")\n",
    "scheduler = torch.optim.lr_scheduler.ExponentialLR(\n",
    "    optimizer, \n",
    "    gamma=0.9,\n",
    "    verbose=False\n",
    ")\n"
   ]
  },
  {
   "cell_type": "code",
   "execution_count": 43,
   "metadata": {},
   "outputs": [],
   "source": [
    "\n",
    "def evaluate(model: nn.Module, val_loader: iter) -> float:\n",
    "    \n",
    "    model.eval()  # turn on evaluation mode    \n",
    "    with torch.no_grad():\n",
    "        for i, (batch, targets) in enumerate(val_loader):\n",
    "            encoder_embeddings = batch['encoder_emb'].cuda()\n",
    "            action_inputs = batch['action'].cuda()\n",
    "            targets = torch.squeeze(targets).cuda()\n",
    "            outputs = model(actions=action_inputs, mm_emb=encoder_embeddings)\n",
    "            # print the output and target values side by side to compare\n",
    "            #print(f\"val: outputs: {outputs}: targets: {targets}\")\n",
    "            batch_val_loss = loss_fn(outputs, targets)\n",
    "            val_loss_buf[epoch, i] = batch_val_loss.item()\n",
    "            "
   ]
  },
  {
   "cell_type": "code",
   "execution_count": 46,
   "metadata": {},
   "outputs": [
    {
     "name": "stdout",
     "output_type": "stream",
     "text": [
      "-----------------------------------------------------------------------------------------\n",
      "end of epoch:   0 | epoc time:  2.44s \n",
      "train loss: 0.3025518\n",
      "valid loss: 0.0722506\n",
      "Learning Rate: 0.000900\n",
      "-----------------------------------------------------------------------------------------\n",
      "-----------------------------------------------------------------------------------------\n",
      "end of epoch:   1 | epoc time:  2.41s \n",
      "train loss: 0.0438871\n",
      "valid loss: 0.0650152\n",
      "Learning Rate: 0.000810\n",
      "-----------------------------------------------------------------------------------------\n",
      "-----------------------------------------------------------------------------------------\n",
      "end of epoch:   2 | epoc time:  2.33s \n",
      "train loss: 0.0427144\n",
      "valid loss: 0.0607323\n",
      "Learning Rate: 0.000729\n",
      "-----------------------------------------------------------------------------------------\n",
      "-----------------------------------------------------------------------------------------\n",
      "end of epoch:   3 | epoc time:  2.34s \n",
      "train loss: 0.0443411\n",
      "valid loss: 0.0632981\n",
      "Learning Rate: 0.000656\n",
      "-----------------------------------------------------------------------------------------\n",
      "-----------------------------------------------------------------------------------------\n",
      "end of epoch:   4 | epoc time:  2.35s \n",
      "train loss: 0.0418632\n",
      "valid loss: 0.0644282\n",
      "Learning Rate: 0.000590\n",
      "-----------------------------------------------------------------------------------------\n",
      "-----------------------------------------------------------------------------------------\n",
      "end of epoch:   5 | epoc time:  2.40s \n",
      "train loss: 0.0410836\n",
      "valid loss: 0.0579343\n",
      "Learning Rate: 0.000531\n",
      "-----------------------------------------------------------------------------------------\n",
      "-----------------------------------------------------------------------------------------\n",
      "end of epoch:   6 | epoc time:  2.39s \n",
      "train loss: 0.0417933\n",
      "valid loss: 0.0625609\n",
      "Learning Rate: 0.000478\n",
      "-----------------------------------------------------------------------------------------\n",
      "-----------------------------------------------------------------------------------------\n",
      "end of epoch:   7 | epoc time:  2.41s \n",
      "train loss: 0.0423760\n",
      "valid loss: 0.0654534\n",
      "Learning Rate: 0.000430\n",
      "-----------------------------------------------------------------------------------------\n",
      "-----------------------------------------------------------------------------------------\n",
      "end of epoch:   8 | epoc time:  2.40s \n",
      "train loss: 0.0414089\n",
      "valid loss: 0.0654267\n",
      "Learning Rate: 0.000387\n",
      "-----------------------------------------------------------------------------------------\n",
      "-----------------------------------------------------------------------------------------\n",
      "end of epoch:   9 | epoc time:  2.40s \n",
      "train loss: 0.0376370\n",
      "valid loss: 0.0606928\n",
      "Learning Rate: 0.000349\n",
      "-----------------------------------------------------------------------------------------\n"
     ]
    }
   ],
   "source": [
    "torch.set_printoptions(precision=4, sci_mode=False, linewidth=150)\n",
    "epochs = 10 # The number of epochs\n",
    "\n",
    "# Create a 2D array of zeros to store the training loss for each epoch x batch.\n",
    "train_loss_buf = np.zeros((epochs, len(train_loader)))\n",
    "val_loss_buf = np.zeros((epochs, len(val_loader)))\n",
    "\n",
    "for epoch in range(epochs):\n",
    "    epoch_start_time = time.time()\n",
    "\n",
    "    log_interval_loss = 0.\n",
    "    start_time = time.time()\n",
    "\n",
    "    for i, (batch, targets) in enumerate(train_loader):\n",
    "\n",
    "        encoder_embeddings = batch['encoder_emb'].cuda()\n",
    "        action_inputs = batch['action'].cuda()\n",
    "        optimizer.zero_grad()\n",
    "        outputs = model(actions=action_inputs, mm_emb=encoder_embeddings)        \n",
    "        targets = targets.squeeze().cuda()\n",
    "        # print the elements of outputs and targets side by side to compare the values\n",
    "        # print(f\"train: outputs: {outputs}| targets: {targets}\")\n",
    "\n",
    "\n",
    "\n",
    "        # Compare target sequence to output sequence, ignoring the output token after the eos token\n",
    "        batch_train_loss = loss_fn(outputs, targets)\n",
    "        batch_train_loss.backward()\n",
    "        #torch.nn.utils.clip_grad_norm_(model.parameters(), 1.0)\n",
    "        optimizer.step()\n",
    "\n",
    "        log_interval_loss += batch_train_loss.item()\n",
    "        train_loss_buf[epoch, i] = batch_train_loss.item()\n",
    "        log_interval = 10\n",
    "        if i % log_interval == 0 and i > 0:\n",
    "                cur_loss = log_interval_loss / log_interval\n",
    "                elapsed = time.time() - start_time\n",
    "                # print(f'| epoch: {epoch:3d} | {i+1:5d}/{len(train_loader):5d} batches | '\n",
    "                #       f'lr: {scheduler.get_last_lr()[0]:02.3f} | s/log: {elapsed:5.2f} | '\n",
    "                #       f'log batch loss: {cur_loss:1.5f} | ')\n",
    "                log_interval_loss = 0\n",
    "                start_time = time.time()\n",
    "\n",
    "\n",
    "\n",
    "    evaluate(model, val_loader)\n",
    "    scheduler.step()\n",
    "    elapsed = time.time() - epoch_start_time\n",
    "    print('-' * 89)\n",
    "    print(f'end of epoch: {epoch:3d} | epoc time: {elapsed:5.2f}s ')\n",
    "    # print the total training and validation loss for the epoch\n",
    "    print(f'train loss: {train_loss_buf[epoch,:].mean():6.7f}')              \n",
    "    print(f'valid loss: {val_loss_buf[epoch,:].mean():6.7f}')\n",
    "    print(f'Learning Rate: {scheduler.get_last_lr()[0]:02.6f}')\n",
    "    print('-' * 89)"
   ]
  },
  {
   "cell_type": "code",
   "execution_count": null,
   "metadata": {},
   "outputs": [],
   "source": [
    "SAVE_MODEL = False\n",
    "\n",
    "# Model path with date suffix\n",
    "datestr = datetime.datetime.now().strftime(\"%Y%m%d-%H%M%S\")\n",
    "MODEL_PATH = f\"/home/levi/data/action_decoder_model_{datestr}.pt\"\n",
    "if SAVE_MODEL:\n",
    "    torch.save(model, MODEL_PATH)"
   ]
  },
  {
   "cell_type": "code",
   "execution_count": 47,
   "metadata": {},
   "outputs": [
    {
     "data": {
      "image/png": "[encoded data removed]",
      "text/plain": [
       "<Figure size 640x480 with 1 Axes>"
      ]
     },
     "metadata": {},
     "output_type": "display_data"
    },
    {
     "data": {
      "image/png": "[encoded data removed]",
      "text/plain": [
       "<Figure size 640x480 with 1 Axes>"
      ]
     },
     "metadata": {},
     "output_type": "display_data"
    }
   ],
   "source": [
    "# plot the training loss for each epoch\n",
    "\n",
    "plt.plot(np.vstack((np.mean(train_loss_buf, axis=1), np.mean(val_loss_buf, axis=1))).T)\n",
    "# set the x axis tick labels to be the epoch numbers\n",
    "plt.xlabel('Epoch')\n",
    "plt.ylabel('Ave Loss')\n",
    "plt.xticks(np.arange(0, epochs, step=25))\n",
    "\n",
    "# add a legend\n",
    "plt.legend(['Training Loss', 'Validation Loss'])\n",
    "plt.show()\n",
    "\n",
    "\n",
    "plt.clf()\n",
    "plt.plot(np.log(np.vstack((np.mean(train_loss_buf, axis=1), np.mean(val_loss_buf, axis=1))).T))\n",
    "plt.xlabel('Epoch')\n",
    "plt.ylabel('Ave Log-Loss')\n",
    "plt.xticks(np.arange(0, epochs, step=25))\n",
    "\n",
    "\n",
    "# add a legend\n",
    "plt.legend(['Training Loss', 'Validation Loss'])\n",
    "plt.show()"
   ]
  },
  {
   "cell_type": "code",
   "execution_count": 48,
   "metadata": {},
   "outputs": [],
   "source": [
    "task_name = \"reach_target\"\n",
    "# Load the training dataset and create a PyTorch DataLoader object.\n",
    "viz_dataset = RLBenchDataset(\n",
    "    update=None,\n",
    "    dataset_name=task_name,\n",
    "    start_offset_ratio=None,\n",
    "    split=\"train\",\n",
    ")\n",
    "viz_loader = torch.utils.data.DataLoader(    \n",
    "    dataset=train_dataset, \n",
    "    batch_size=1, \n",
    "    shuffle=True, \n",
    "    num_workers=0)"
   ]
  },
  {
   "cell_type": "code",
   "execution_count": 194,
   "metadata": {},
   "outputs": [
    {
     "name": "stdout",
     "output_type": "stream",
     "text": [
      "inputs: tensor([[[     0.2784,     -0.0082,      1.4720,     -0.0000,      0.9927,      0.0000,      0.1209,      1.0000]]], device='cuda:0')\n",
      "outputs: tensor([[ 0.2345, -0.0096,  0.8876, -0.0233, -0.9976, -0.0246, -0.0105,  1.0267]], device='cuda:0')\n",
      "targets: tensor([     0.2187,      0.1461,      1.0046,      0.0000,     -1.0000,      0.0002,      0.0003,      1.0000], device='cuda:0')\n"
     ]
    }
   ],
   "source": [
    "# display the output of specific training data results compared to targets\n",
    "model.eval()  # turn on evaluation mode    \n",
    "with torch.no_grad():\n",
    "    (batch, targets) = next(iter(viz_loader))\n",
    "    encoder_embeddings = batch['encoder_emb'].cuda()\n",
    "    action_inputs = batch['action'].cuda()\n",
    "    targets = torch.squeeze(targets).cuda()\n",
    "    outputs = model(actions=action_inputs, mm_emb=encoder_embeddings)\n",
    "    # # print the output and target values side by side to compare\n",
    "    print(f\"inputs: {action_inputs}\")\n",
    "    print(f\"outputs: {outputs}\")\n",
    "    print(f\"targets: {targets}\")\n",
    "# batch_val_loss = loss_fn(outputs, targets)\n",
    "    \n",
    "# # Compute the mean of the encoder embeddings for each camera view\n",
    "# encoder_embeddings = encoder_embeddings.mean(dim=-2)\n",
    "# # Normalize the mean embeddings\n",
    "# encoder_embeddings = F.normalize(encoder_embeddings, p=2, dim=-1)\n",
    "# # Squeeze out the batch dimension\n",
    "# encoder_embeddings = encoder_embeddings.squeeze()\n",
    "# plot each camera vector as a line on separate plots side by side\n",
    "# for i in range(encoder_embeddings.shape[0]):\n",
    "#     plt.plot(encoder_embeddings[i,:].cpu().numpy())\n",
    "#     plt.xlabel('Sequence Index')\n",
    "#     plt.ylabel('Encoder Embedding')\n",
    "#     plt.title(f\"Camera {i}\")\n",
    "#     plt.show()\n",
    "# # plot the kernel matrix of the inner product between the encoder embeddings for each camera view as a heatmap with a colorbar\n",
    "# plt.imshow(torch.mm(encoder_embeddings, encoder_embeddings.T).cpu().numpy())\n",
    "# plt.colorbar()\n",
    "# plt.show()\n",
    "\n"
   ]
  },
  {
   "cell_type": "code",
   "execution_count": null,
   "metadata": {},
   "outputs": [],
   "source": [
    "# Now lets connect the current model to RLBench to step through the task and evaluate how often it receives a reward in the task.\n",
    "from rlbench.action_modes.action_mode import MoveArmThenGripper\n",
    "from rlbench.action_modes.arm_action_modes import EndEffectorPoseViaPlanning\n",
    "from rlbench.action_modes.gripper_action_modes import Discrete\n",
    "from rlbench.environment import Environment\n",
    "from rlbench.observation_config import ObservationConfig\n",
    "from rlbench.tasks import FS10_V1, ReachTarget, PickUpCup"
   ]
  },
  {
   "cell_type": "code",
   "execution_count": null,
   "metadata": {},
   "outputs": [],
   "source": [
    "from transformers import FlavaProcessor, FlavaModel\n",
    "import numpy as np\n",
    "import torch\n",
    "\n",
    "class SlowAgent(object):\n",
    "    \"\"\"\n",
    "    Agent that uses task description and observation to infer FLAVA autoencoder embeddings and then \n",
    "    predict the next action with the provided decoder autoregressively.\n",
    "    \n",
    "    \"\"\"\n",
    "\n",
    "    def __init__(self, decoder_model, start_action):\n",
    "        self.action_shape = (8,)        \n",
    "        self.encoder_emb = np.empty((1,0,3,250,768),dtype=np.float32)\n",
    "        \n",
    "        # add two dimensions on the front of the action vector\n",
    "        start_action = torch.tensor(np.expand_dims(start_action, axis=(0,1)), dtype=torch.float32)\n",
    "        self.decoder_actions = start_action\n",
    "        # Retrieve the Flava model and processor\n",
    "        self.flava_model = FlavaModel.from_pretrained('facebook/flava-full')\n",
    "        self.flava_processor = FlavaProcessor.from_pretrained('facebook/flava-full')\n",
    "        self.action_decoder_model = decoder_model\n",
    "\n",
    "\n",
    "    def get_flava_embeddings(self, images, instruction):\n",
    "        # Convert the observation and instruction into a batch of inputs for the Flava model\n",
    "        instruction = [instruction for n in range(len(images))] # repeat the instruction for each image\n",
    "        inputs = self.flava_processor(images, instruction, return_tensors=\"pt\", padding=\"max_length\", max_length=197, return_codebook_pixels=False, return_image_mask=False)\n",
    "        # Pass the inputs through the Flava model\n",
    "        outputs = self.flava_model(**inputs)\n",
    "        # Retrieve the multimodal embeddings from the Flava model outputs\n",
    "        multimodal_embeddings = outputs.multimodal_embeddings.detach().numpy()\n",
    "        return multimodal_embeddings\n",
    "    \n",
    "    def act(self, images, instruction):        \n",
    "        # Here we are submitting on image and one instruction at a time in an autoregressive fashion\n",
    "        encoder_emb = self.get_flava_embeddings(images, instruction)\n",
    "        #add axes to encoder_emb to match the expected shape of the self.encoder_emb\n",
    "        encoder_emb = np.expand_dims(encoder_emb, axis=(0,1))\n",
    "        # Concatenate the embedding to the encoder embeddings\n",
    "        self.encoder_emb = np.concatenate((self.encoder_emb, encoder_emb), axis=1)\n",
    "\n",
    "        self.action_decoder_model.eval()  # turn on evaluation mode    \n",
    "        memory_emb = torch.from_numpy(self.encoder_emb).cuda()\n",
    "        with torch.no_grad():\n",
    "            # Get the decoder action from the action decoder model\n",
    "            decoder_action = self.action_decoder_model(actions=self.decoder_actions, memory=memory_emb) \n",
    "            # Normalize the quaternion values\n",
    "            decoder_action[0,0,3:7] = decoder_action[0,0,3:7] / torch.norm(decoder_action[0,0,3:7])           \n",
    "            # Add the action to the decoder actions\n",
    "            self.decoder_actions = torch.cat((self.decoder_actions, decoder_action), dim=1)\n",
    "        return decoder_action.detach().cpu().numpy().squeeze()\n"
   ]
  },
  {
   "cell_type": "code",
   "execution_count": null,
   "metadata": {},
   "outputs": [],
   "source": [
    "obs_config = ObservationConfig()\n",
    "obs_config.set_all(True)\n",
    "\n",
    "env = Environment(\n",
    "    action_mode=MoveArmThenGripper(\n",
    "        arm_action_mode=EndEffectorPoseViaPlanning(absolute_mode=True), gripper_action_mode=Discrete()),\n",
    "    obs_config=ObservationConfig(),\n",
    "    headless=False)\n",
    "env.launch()"
   ]
  },
  {
   "cell_type": "code",
   "execution_count": null,
   "metadata": {},
   "outputs": [],
   "source": [
    "from data.utils import _get_cont_action\n",
    "\n",
    "# Get the task\n",
    "task = env.get_task(ReachTarget)\n",
    "# Reset the task\n",
    "descriptions, obs = task.reset()\n",
    "\n",
    "# Instantiate the agent\n",
    "start_action = torch.tensor(_get_cont_action(obs))\n",
    "model.test_mode = False\n",
    "agent = SlowAgent(decoder_model=model, start_action=start_action)\n",
    "\n",
    "instruction = descriptions[1]\n",
    "print(instruction)\n",
    "# show the three camera views in one plot\n",
    "# Concatenate the three camera views into one image\n",
    "image = np.concatenate((obs.left_shoulder_rgb, obs.right_shoulder_rgb, obs.wrist_rgb), axis=1)\n",
    "plt.imshow(image)\n",
    "plt.show()\n",
    "\n"
   ]
  },
  {
   "cell_type": "code",
   "execution_count": null,
   "metadata": {},
   "outputs": [],
   "source": [
    "images = [obs.left_shoulder_rgb, obs.right_shoulder_rgb, obs.wrist_rgb]\n",
    "flava_model = FlavaModel.from_pretrained('facebook/flava-full')\n",
    "flava_processor = FlavaProcessor.from_pretrained('facebook/flava-full')\n",
    "instruction = descriptions[1]\n",
    "inst = [instruction for n in range(len(images))] # repeat the instruction for each image"
   ]
  },
  {
   "cell_type": "code",
   "execution_count": null,
   "metadata": {},
   "outputs": [],
   "source": [
    "inputs = flava_processor(images, inst, return_tensors=\"pt\", padding=\"max_length\", max_length=50, return_codebook_pixels=False, return_image_mask=False)\n",
    "# Pass the inputs through the Flava model\n",
    "outputs = flava_model(**inputs)\n",
    "# Retrieve the multimodal embeddings from the Flava model outputs\n",
    "mm_embeddings = outputs.multimodal_embeddings.detach().numpy()\n",
    "print(mm_embeddings.shape)"
   ]
  },
  {
   "cell_type": "code",
   "execution_count": null,
   "metadata": {},
   "outputs": [],
   "source": [
    "mm_embeddings = outputs.multimodal_output.last_hidden_state.detach().numpy()"
   ]
  },
  {
   "cell_type": "code",
   "execution_count": null,
   "metadata": {},
   "outputs": [],
   "source": [
    "# Take the inner product of the first two embeddings\n",
    "print(np.trace(np.dot(mm_embeddings[0,...], mm_embeddings[1,...].T)))"
   ]
  },
  {
   "cell_type": "code",
   "execution_count": null,
   "metadata": {},
   "outputs": [],
   "source": [
    "# Display each of the three 2D embeddings\n",
    "for i in range(mm_embeddings.shape[0]):\n",
    "    plt.imshow(mm_embeddings[i,:,:])\n",
    "    plt.show()\n",
    "# Compute the difference between the first two embeddings\n",
    "# emb_diff = mm_embeddings[0,:,:] - mm_embeddings[1,:,:]\n",
    "# # Plot the histogram of the embedding differences\n",
    "# plt.hist(emb_diff.flatten())"
   ]
  },
  {
   "cell_type": "code",
   "execution_count": null,
   "metadata": {},
   "outputs": [],
   "source": [
    "# Take steps in the task and print the reward\n",
    "for i in range(1):\n",
    "    action = agent.act([obs.left_shoulder_rgb, obs.right_shoulder_rgb, obs.wrist_rgb], instruction)\n",
    "    print(f'action: {action}')\n",
    "    if action[0] > 0:\n",
    "        obs, reward, terminate = task.step(action)\n",
    "        print(f'Step: {i} Reward: {reward}')\n",
    "    else:\n",
    "        print(\"No action taken\")\n",
    "        break\n",
    "    image = np.concatenate((obs.left_shoulder_rgb, obs.right_shoulder_rgb, obs.wrist_rgb), axis=1)\n",
    "    plt.imshow(image)"
   ]
  },
  {
   "cell_type": "code",
   "execution_count": null,
   "metadata": {},
   "outputs": [],
   "source": [
    "env.shutdown()"
   ]
  }
 ],
 "metadata": {
  "kernelspec": {
   "display_name": "Python 3",
   "language": "python",
   "name": "python3"
  },
  "language_info": {
   "codemirror_mode": {
    "name": "ipython",
    "version": 3
   },
   "file_extension": ".py",
   "mimetype": "text/x-python",
   "name": "python",
   "nbconvert_exporter": "python",
   "pygments_lexer": "ipython3",
   "version": "3.11.0rc1"
  },
  "orig_nbformat": 4
 },
 "nbformat": 4,
 "nbformat_minor": 2
}
